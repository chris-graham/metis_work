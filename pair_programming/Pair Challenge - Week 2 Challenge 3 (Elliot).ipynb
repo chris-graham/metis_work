{
 "cells": [
  {
   "cell_type": "code",
   "execution_count": 34,
   "metadata": {
    "collapsed": false
   },
   "outputs": [
    {
     "name": "stdout",
     "output_type": "stream",
     "text": [
      "3524193\n"
     ]
    }
   ],
   "source": [
    "import random\n",
    "import numpy as np\n",
    "\n",
    "data1 = random.sample(range(10000), 10)\n",
    "data2 = random.sample(range(10000), 10)\n",
    "\n",
    "def get_mean(d):\n",
    "    mean = 0\n",
    "\n",
    "    for i in d:\n",
    "        mean += i\n",
    "\n",
    "    return mean / len(d)\n",
    "\n",
    "def get_var(d):\n",
    "    mean = get_mean(d)\n",
    "    var = 0\n",
    "    \n",
    "    for i in d:\n",
    "        var += (i - mean)**2\n",
    "        \n",
    "    return var / len(d)\n",
    "\n",
    "\n",
    "print get_var(data1)\n"
   ]
  },
  {
   "cell_type": "code",
   "execution_count": 41,
   "metadata": {
    "collapsed": false
   },
   "outputs": [],
   "source": [
    "m = np.matrix([data1, data2])\n",
    "\n",
    "def get_covar(d1, d2):\n",
    "    mean1 = get_mean(d1)\n",
    "    mean2 = get_mean(d2)\n",
    "    sum1 = 0\n",
    "    sum2 = 0\n",
    "\n",
    "    for i, j in d1, d2:\n",
    "        sum1 = i - mean1\n",
    "        sum2 = j - mean2"
   ]
  },
  {
   "cell_type": "code",
   "execution_count": null,
   "metadata": {
    "collapsed": true
   },
   "outputs": [],
   "source": []
  }
 ],
 "metadata": {
  "kernelspec": {
   "display_name": "Python 2",
   "language": "python",
   "name": "python2"
  },
  "language_info": {
   "codemirror_mode": {
    "name": "ipython",
    "version": 2
   },
   "file_extension": ".py",
   "mimetype": "text/x-python",
   "name": "python",
   "nbconvert_exporter": "python",
   "pygments_lexer": "ipython2",
   "version": "2.7.11"
  }
 },
 "nbformat": 4,
 "nbformat_minor": 0
}
