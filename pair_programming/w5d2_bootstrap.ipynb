{
 "cells": [
  {
   "cell_type": "markdown",
   "metadata": {},
   "source": [
    "#### Pair Problem\n",
    "\n",
    "Let's bootstrap!  Recall that bootstrapping is sampling with replacement from a dataset to produce a new dataset of the same size.  Bootstrapping is used in random forests to guard against overfitting.  It also has wide application in many other areas of statistics - let's see two of them.\n",
    "\n",
    "1) Produce a bootstrapped estimate of the median and 95 percent confidence interval over the median of the dependent variable in the [attached dataset](Boot.csv).\n",
    "\n",
    "2) Use the attached data to run the linear model y = xb.  Produce bootstrapped estimates of the model parameters, b, and a 95% confidence interval over them.\n",
    "\n",
    "**Jeremy created this problem. If you need more explanation or guidance, he said that he'll be at his desk and you can just ask him.**\n"
   ]
  },
  {
   "cell_type": "markdown",
   "metadata": {},
   "source": [
    "# 1) Produce a bootstrapped estimate of the median and 95 percent confidence interval over the median of the dependent variable in the [attached dataset](Boot.csv)."
   ]
  },
  {
   "cell_type": "code",
   "execution_count": 152,
   "metadata": {
    "collapsed": true
   },
   "outputs": [],
   "source": [
    "import pandas as pd\n",
    "import numpy as np\n"
   ]
  },
  {
   "cell_type": "markdown",
   "metadata": {},
   "source": [
    "### Test Case - Import data"
   ]
  },
  {
   "cell_type": "code",
   "execution_count": 153,
   "metadata": {
    "collapsed": false
   },
   "outputs": [],
   "source": [
    "Boot = pd.read_csv(\"Boot.csv\")"
   ]
  },
  {
   "cell_type": "markdown",
   "metadata": {},
   "source": [
    "### Test Case - Do I have the right form for random sampling?"
   ]
  },
  {
   "cell_type": "code",
   "execution_count": 154,
   "metadata": {
    "collapsed": false
   },
   "outputs": [
    {
     "name": "stdout",
     "output_type": "stream",
     "text": [
      "<type 'list'>\n",
      "26\n"
     ]
    },
    {
     "data": {
      "text/plain": [
       "array(['p', 'y', 'r', 'k', 'r', 'e', 'l', 'n', 'r', 's', 'z', 'w', 'e',\n",
       "       'f', 'x', 'c', 'w', 'w', 'm', 'n', 'u', 'm', 'y', 'v', 'k', 'd'], \n",
       "      dtype='|S1')"
      ]
     },
     "execution_count": 154,
     "metadata": {},
     "output_type": "execute_result"
    }
   ],
   "source": [
    "import string\n",
    "alphabet = list(string.ascii_lowercase)\n",
    "print type(alphabet)\n",
    "print len(alphabet)\n",
    "np.random.choice( alphabet, 26, replace = True)"
   ]
  },
  {
   "cell_type": "markdown",
   "metadata": {},
   "source": [
    "### Apply to the given problem"
   ]
  },
  {
   "cell_type": "code",
   "execution_count": 155,
   "metadata": {
    "collapsed": false
   },
   "outputs": [],
   "source": [
    "y = Boot[\"y\"]\n",
    "n = len(y)\n",
    "# print n\n",
    "# print type(y)"
   ]
  },
  {
   "cell_type": "code",
   "execution_count": null,
   "metadata": {
    "collapsed": true
   },
   "outputs": [],
   "source": []
  },
  {
   "cell_type": "code",
   "execution_count": 156,
   "metadata": {
    "collapsed": false
   },
   "outputs": [
    {
     "name": "stdout",
     "output_type": "stream",
     "text": [
      "Bootstrapped Estimate: -0.396238273902\n"
     ]
    }
   ],
   "source": [
    "dict_of_medians = {}\n",
    "list_of_medians = []\n",
    "\n",
    "for i in range(1,101):\n",
    "    #print i,\n",
    "    random_sample_of_y = np.random.choice( y, n, replace = True)\n",
    "    median_of_random_sample = np.median(random_sample_of_y)\n",
    "    list_of_medians.append(median_of_random_sample)\n",
    "    dict_of_medians[i] = (median_of_random_sample, random_sample_of_y)\n",
    "\n",
    "bootstrap_estimate_of_y = np.mean(list_of_medians)\n",
    "print \"Bootstrapped Estimate:\" , bootstrap_estimate_of_y"
   ]
  },
  {
   "cell_type": "code",
   "execution_count": 157,
   "metadata": {
    "collapsed": false
   },
   "outputs": [
    {
     "name": "stdout",
     "output_type": "stream",
     "text": [
      "Actual Median of Y: -0.407439743474\n"
     ]
    }
   ],
   "source": [
    "print \"Actual Median of Y:\", np.median(y)"
   ]
  },
  {
   "cell_type": "code",
   "execution_count": 158,
   "metadata": {
    "collapsed": false
   },
   "outputs": [
    {
     "data": {
      "text/plain": [
       "(-0.41045583396828267, -0.38202071383642711)"
      ]
     },
     "execution_count": 158,
     "metadata": {},
     "output_type": "execute_result"
    }
   ],
   "source": [
    "import scipy.stats as st\n",
    "\n",
    "st.t.interval(0.95, len(list_of_medians)-1, loc=np.mean(list_of_medians), scale=st.sem(list_of_medians))\n",
    "# Delta = Degrees of Freedom\n",
    "\n",
    "# loc=np.mean(list_of_medians) = average / expectation of the median\n",
    "\n",
    "# scale=st.sem(list_of_medians)) - Calculates the standard error of \n",
    "# the mean (or standard error of measurement) \n",
    "# of the values in the input array."
   ]
  },
  {
   "cell_type": "code",
   "execution_count": 159,
   "metadata": {
    "collapsed": false
   },
   "outputs": [
    {
     "data": {
      "text/plain": [
       "(-0.41045583396828261, -0.38202071383642705)"
      ]
     },
     "execution_count": 159,
     "metadata": {},
     "output_type": "execute_result"
    }
   ],
   "source": [
    "import statsmodels.stats.api as sms\n",
    "\n",
    "sms.DescrStatsW(list_of_medians).tconfint_mean()"
   ]
  },
  {
   "cell_type": "code",
   "execution_count": null,
   "metadata": {
    "collapsed": false
   },
   "outputs": [],
   "source": []
  },
  {
   "cell_type": "markdown",
   "metadata": {},
   "source": [
    "# 2) Use the attached data to run the linear model y = xb. Produce bootstrapped estimates of the model parameters, b, and a 95% confidence interval over them."
   ]
  },
  {
   "cell_type": "code",
   "execution_count": 160,
   "metadata": {
    "collapsed": true
   },
   "outputs": [],
   "source": [
    "#from sklearn.linear_model import LinearRegression\n",
    "#LinearRegression(fit_intercept=False,)\n",
    "import statsmodels.api as sm"
   ]
  },
  {
   "cell_type": "code",
   "execution_count": 161,
   "metadata": {
    "collapsed": false
   },
   "outputs": [
    {
     "data": {
      "text/html": [
       "<div>\n",
       "<table border=\"1\" class=\"dataframe\">\n",
       "  <thead>\n",
       "    <tr style=\"text-align: right;\">\n",
       "      <th></th>\n",
       "      <th>x_1</th>\n",
       "      <th>x_2</th>\n",
       "      <th>x_3</th>\n",
       "      <th>x_4</th>\n",
       "      <th>x_5</th>\n",
       "      <th>Intercept</th>\n",
       "      <th>y</th>\n",
       "    </tr>\n",
       "  </thead>\n",
       "  <tbody>\n",
       "    <tr>\n",
       "      <th>0</th>\n",
       "      <td>0.485176</td>\n",
       "      <td>0.809888</td>\n",
       "      <td>-0.900321</td>\n",
       "      <td>-0.024176</td>\n",
       "      <td>-1.173217</td>\n",
       "      <td>1</td>\n",
       "      <td>-1.517941</td>\n",
       "    </tr>\n",
       "    <tr>\n",
       "      <th>1</th>\n",
       "      <td>0.187372</td>\n",
       "      <td>2.440924</td>\n",
       "      <td>1.417704</td>\n",
       "      <td>-1.032075</td>\n",
       "      <td>0.090030</td>\n",
       "      <td>1</td>\n",
       "      <td>-0.919732</td>\n",
       "    </tr>\n",
       "  </tbody>\n",
       "</table>\n",
       "</div>"
      ],
      "text/plain": [
       "        x_1       x_2       x_3       x_4       x_5  Intercept         y\n",
       "0  0.485176  0.809888 -0.900321 -0.024176 -1.173217          1 -1.517941\n",
       "1  0.187372  2.440924  1.417704 -1.032075  0.090030          1 -0.919732"
      ]
     },
     "execution_count": 161,
     "metadata": {},
     "output_type": "execute_result"
    }
   ],
   "source": [
    "X = Boot.copy()\n",
    "del X[\"y\"]\n",
    "Boot.head(2)"
   ]
  },
  {
   "cell_type": "code",
   "execution_count": 162,
   "metadata": {
    "collapsed": false
   },
   "outputs": [
    {
     "data": {
      "text/html": [
       "<div>\n",
       "<table border=\"1\" class=\"dataframe\">\n",
       "  <thead>\n",
       "    <tr style=\"text-align: right;\">\n",
       "      <th></th>\n",
       "      <th>x_1</th>\n",
       "      <th>x_2</th>\n",
       "      <th>x_3</th>\n",
       "      <th>x_4</th>\n",
       "      <th>x_5</th>\n",
       "      <th>Intercept</th>\n",
       "    </tr>\n",
       "  </thead>\n",
       "  <tbody>\n",
       "    <tr>\n",
       "      <th>0</th>\n",
       "      <td>0.485176</td>\n",
       "      <td>0.809888</td>\n",
       "      <td>-0.900321</td>\n",
       "      <td>-0.024176</td>\n",
       "      <td>-1.173217</td>\n",
       "      <td>1</td>\n",
       "    </tr>\n",
       "    <tr>\n",
       "      <th>1</th>\n",
       "      <td>0.187372</td>\n",
       "      <td>2.440924</td>\n",
       "      <td>1.417704</td>\n",
       "      <td>-1.032075</td>\n",
       "      <td>0.090030</td>\n",
       "      <td>1</td>\n",
       "    </tr>\n",
       "  </tbody>\n",
       "</table>\n",
       "</div>"
      ],
      "text/plain": [
       "        x_1       x_2       x_3       x_4       x_5  Intercept\n",
       "0  0.485176  0.809888 -0.900321 -0.024176 -1.173217          1\n",
       "1  0.187372  2.440924  1.417704 -1.032075  0.090030          1"
      ]
     },
     "execution_count": 162,
     "metadata": {},
     "output_type": "execute_result"
    }
   ],
   "source": [
    "X.head(2)"
   ]
  },
  {
   "cell_type": "markdown",
   "metadata": {},
   "source": [
    "### Doing the basic just for proof of concept"
   ]
  },
  {
   "cell_type": "code",
   "execution_count": 163,
   "metadata": {
    "collapsed": false
   },
   "outputs": [
    {
     "name": "stdout",
     "output_type": "stream",
     "text": [
      "x_1         -1.411328\n",
      "x_2         -0.242640\n",
      "x_3          0.551710\n",
      "x_4          0.432448\n",
      "x_5          0.253018\n",
      "Intercept   -0.364552\n",
      "dtype: float64\n"
     ]
    }
   ],
   "source": [
    "model = sm.OLS(y,X).fit()\n",
    "print model.params"
   ]
  },
  {
   "cell_type": "markdown",
   "metadata": {},
   "source": [
    "### Perform random samplling for th estimates"
   ]
  },
  {
   "cell_type": "code",
   "execution_count": null,
   "metadata": {
    "collapsed": false
   },
   "outputs": [],
   "source": []
  },
  {
   "cell_type": "code",
   "execution_count": 165,
   "metadata": {
    "collapsed": false
   },
   "outputs": [
    {
     "data": {
      "text/plain": [
       "1000"
      ]
     },
     "execution_count": 165,
     "metadata": {},
     "output_type": "execute_result"
    }
   ],
   "source": [
    "n"
   ]
  },
  {
   "cell_type": "code",
   "execution_count": 166,
   "metadata": {
    "collapsed": false
   },
   "outputs": [
    {
     "data": {
      "text/plain": [
       "(1000, 7)"
      ]
     },
     "execution_count": 166,
     "metadata": {},
     "output_type": "execute_result"
    }
   ],
   "source": [
    "Boot.shape"
   ]
  },
  {
   "cell_type": "code",
   "execution_count": 167,
   "metadata": {
    "collapsed": false
   },
   "outputs": [
    {
     "name": "stdout",
     "output_type": "stream",
     "text": [
      "beta1_bootstrap_est: -1.26539941097 (-1.7404269616437757, -0.79037186029983686)\n",
      "beta2_bootstrap_est: -0.810494700682 (-2.016846970257542, 0.39585756889376122)\n",
      "beta3_bootstrap_est: -0.243895593339 (-0.93422285534193694, 0.44643166866382239)\n",
      "beta4_bootstrap_est: 0.139017733772 (-0.5309722814960538, 0.80900774903930106)\n",
      "beta5_bootstrap_est: 0.0372906828363 (-0.6333425626338558, 0.70792392830639006)\n",
      "Intercept bootstrap est: -0.785017050009 (-1.5498837476350085, -0.020150352382601988)\n"
     ]
    }
   ],
   "source": [
    "dict_of_coeff_estimates = {}\n",
    "list_of_beta1_estimates = []\n",
    "list_of_beta2_estimates = []\n",
    "list_of_beta3_estimates = []\n",
    "list_of_beta4_estimates = []\n",
    "list_of_beta5_estimates = []\n",
    "list_of_intercept_estimates = []\n",
    "\n",
    "for i in range(1,20):\n",
    "    #print i,\n",
    "    # Random Sample of Our Observations - \"Boot\" & Separation of Values\n",
    "    random_sample_of_observations = Boot.sample(n = 5, replace = True)\n",
    "    #print random_sample_of_observations\n",
    "    \n",
    "    # Separate out X & y from each random sample:\n",
    "    y = random_sample_of_observations[\"y\"]\n",
    "    X = random_sample_of_observations.copy()\n",
    "    del X[\"y\"]\n",
    "\n",
    "    # Predict Coefficients for the given random sample:\n",
    "    model = sm.OLS(y,X).fit()\n",
    "    #print model.params\n",
    "#    print\n",
    "    list_of_beta1_estimates.append(model.params[0])\n",
    "    list_of_beta2_estimates.append(model.params[1])\n",
    "    list_of_beta3_estimates.append(model.params[2])\n",
    "    list_of_beta4_estimates.append(model.params[3])\n",
    "    list_of_beta5_estimates.append(model.params[4])\n",
    "    list_of_intercept_estimates.append(model.params[5])\n",
    "    \n",
    "    dict_of_coeff_estimates[i] = (model.params)\n",
    "\n",
    "beta1_bootstrap_estimate = np.mean(list_of_beta1_estimates)\n",
    "beta2_bootstrap_estimate = np.mean(list_of_beta2_estimates)\n",
    "beta3_bootstrap_estimate = np.mean(list_of_beta3_estimates)\n",
    "beta4_bootstrap_estimate = np.mean(list_of_beta4_estimates)\n",
    "beta5_bootstrap_estimate = np.mean(list_of_beta5_estimates)\n",
    "beta0_bootstrap_estimate = np.mean(list_of_intercept_estimates)\n",
    "\n",
    "print \"beta1_bootstrap_est:\", beta1_bootstrap_estimate, sms.DescrStatsW(list_of_beta1_estimates).tconfint_mean()\n",
    "print \"beta2_bootstrap_est:\", beta2_bootstrap_estimate, sms.DescrStatsW(list_of_beta2_estimates).tconfint_mean()\n",
    "print \"beta3_bootstrap_est:\", beta3_bootstrap_estimate, sms.DescrStatsW(list_of_beta3_estimates).tconfint_mean()\n",
    "print \"beta4_bootstrap_est:\", beta4_bootstrap_estimate, sms.DescrStatsW(list_of_beta4_estimates).tconfint_mean()\n",
    "print \"beta5_bootstrap_est:\", beta5_bootstrap_estimate, sms.DescrStatsW(list_of_beta5_estimates).tconfint_mean()\n",
    "print \"Intercept bootstrap est:\", beta0_bootstrap_estimate, sms.DescrStatsW(list_of_intercept_estimates).tconfint_mean()\n"
   ]
  },
  {
   "cell_type": "code",
   "execution_count": null,
   "metadata": {
    "collapsed": true
   },
   "outputs": [],
   "source": []
  }
 ],
 "metadata": {
  "kernelspec": {
   "display_name": "Python 2",
   "language": "python",
   "name": "python2"
  },
  "language_info": {
   "codemirror_mode": {
    "name": "ipython",
    "version": 2
   },
   "file_extension": ".py",
   "mimetype": "text/x-python",
   "name": "python",
   "nbconvert_exporter": "python",
   "pygments_lexer": "ipython2",
   "version": "2.7.10"
  }
 },
 "nbformat": 4,
 "nbformat_minor": 0
}
