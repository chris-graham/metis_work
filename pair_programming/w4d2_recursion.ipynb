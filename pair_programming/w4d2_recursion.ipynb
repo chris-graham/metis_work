{
 "cells": [
  {
   "cell_type": "markdown",
   "metadata": {},
   "source": [
    "### Pair Problem #1: FACTORIAL\n",
    "\n",
    "Factorial(n) written as n! is the product of all the numbers up to n. 8! = 1 x 2 x 3 x 4 x 5 x 6 x 7 x 8 = 40320\n",
    "Write a function to calculate the factorial of a given number.\n",
    "\n",
    "```def factorial(n):```\n",
    "\n",
    "Once done, can you rewrite this function using recursion. A recursive function is one that calls itself."
   ]
  },
  {
   "cell_type": "code",
   "execution_count": 103,
   "metadata": {
    "collapsed": false
   },
   "outputs": [
    {
     "name": "stdout",
     "output_type": "stream",
     "text": [
      "2432902008176640000\n",
      "2432902008176640000\n",
      "2432902008176640000\n"
     ]
    }
   ],
   "source": [
    "import numpy as np\n",
    "\n",
    "def factorial(n):\n",
    "    f = 1\n",
    "    for i in range(n, 1, -1):\n",
    "        f *= i\n",
    "    return f\n",
    "\n",
    "def fast_factorial(n):\n",
    "    return np.prod(range(n, 1, -1))\n",
    "\n",
    "def recursive_factorial(n):\n",
    "    if n < 2:\n",
    "        return 1\n",
    "    else:\n",
    "        return n*recursive_factorial(n-1)\n",
    "\n",
    "print factorial(20)\n",
    "print fast_factorial(20)\n",
    "print recursive_factorial(20)"
   ]
  },
  {
   "cell_type": "markdown",
   "metadata": {},
   "source": [
    "### Pair Problem #2: FIBONACCI SERIES\n",
    "\n",
    "Fibonacci series goes like this: 0 1 1 2 3 5 8 13 21 34\n",
    "You start with 0 and 1. Each of the following numbers are the sum of the previous two numbers in the series. Write a function, that given N, will return the Nth number of the Fibonacci series. Once done, can you rewrite this function using recursion."
   ]
  },
  {
   "cell_type": "code",
   "execution_count": 100,
   "metadata": {
    "collapsed": false
   },
   "outputs": [
    {
     "name": "stdout",
     "output_type": "stream",
     "text": [
      "6765\n",
      "6765\n"
     ]
    }
   ],
   "source": [
    "def fibonacci(n):\n",
    "    a, b = 0, 1\n",
    "    for i in range(n):\n",
    "        a, b = b, a + b\n",
    "    return a\n",
    "\n",
    "def recursive_fibonacci(n):\n",
    "    if n == 0:\n",
    "        return 0\n",
    "    elif n == 1:\n",
    "        return 1\n",
    "    else:\n",
    "        return recursive_fibonacci(n-1) + recursive_fibonacci(n-2)\n",
    "\n",
    "print fibonacci(20)\n",
    "print recursive_fibonacci(20)"
   ]
  },
  {
   "cell_type": "code",
   "execution_count": null,
   "metadata": {
    "collapsed": true
   },
   "outputs": [],
   "source": []
  }
 ],
 "metadata": {
  "kernelspec": {
   "display_name": "Python 2",
   "language": "python",
   "name": "python2"
  },
  "language_info": {
   "codemirror_mode": {
    "name": "ipython",
    "version": 2
   },
   "file_extension": ".py",
   "mimetype": "text/x-python",
   "name": "python",
   "nbconvert_exporter": "python",
   "pygments_lexer": "ipython2",
   "version": "2.7.11"
  }
 },
 "nbformat": 4,
 "nbformat_minor": 0
}
