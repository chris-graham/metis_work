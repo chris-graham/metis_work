{
 "cells": [
  {
   "cell_type": "markdown",
   "metadata": {},
   "source": [
    "### Pair Problem\n",
    "#### Google interview problem\n",
    "\n",
    "| 0 | 1 | 2 | 3 | 4 |\n",
    "|---|---|---|---|---|\n",
    "| o |   |   |   | x |\n",
    "\n",
    "Above is a gameboard of length 4. You start your coin at position 0 and you want to end at position 4. You have N moves. In each move, you have two options, One space forward or stay put. And you can never step outside the board. And at the end of your last move, you want to be at the last square.\n",
    "\n",
    "Given a board of length M and N moves, calculate the number of possible solutions.\n",
    "\n",
    "For the example above, M = 4. Let's say N = 5. Then we have,\n",
    "\n",
    "    FFFFS\n",
    "    FFFSF\n",
    "    FFSFF\n",
    "    FSFFF\n",
    "    SFFFF\n",
    "    \n",
    "That gives a total of 5 solutions.\n",
    "\n",
    "Write a function \"def Way(n,m)\" that would return the number of possible solutions.\n",
    "\n",
    "See if you can do this without recursion and with recursion.\n",
    "\n",
    "This problem is not trivial. So take your time to think, talk and work it out.\n"
   ]
  },
  {
   "cell_type": "code",
   "execution_count": 17,
   "metadata": {
    "collapsed": false
   },
   "outputs": [
    {
     "data": {
      "text/plain": [
       "0"
      ]
     },
     "execution_count": 17,
     "metadata": {},
     "output_type": "execute_result"
    }
   ],
   "source": [
    "import math\n",
    "\n",
    "def way(m, n):\n",
    "    if m > n:\n",
    "        return 'Error: M is larger than N'\n",
    "    else:\n",
    "        return math.factorial(n) / (math.factorial(m) * math.factorial(n-m))\n",
    "\n",
    "\n",
    "way(3,5)\n",
    "\n",
    "def recurssive_way(n, m):\n",
    "    if n < m:\n",
    "        return 0\n",
    "    elif n == m:\n",
    "        return 1\n",
    "    elif m == 1:\n",
    "        return n\n",
    "    else:\n",
    "        return recurssive_way(n-1, m) + recurssive_way(n-1, m-1)\n",
    "\n",
    "recurssive_way(3, 5)"
   ]
  },
  {
   "cell_type": "code",
   "execution_count": null,
   "metadata": {
    "collapsed": true
   },
   "outputs": [],
   "source": []
  }
 ],
 "metadata": {
  "kernelspec": {
   "display_name": "Python 2",
   "language": "python",
   "name": "python2"
  },
  "language_info": {
   "codemirror_mode": {
    "name": "ipython",
    "version": 2
   },
   "file_extension": ".py",
   "mimetype": "text/x-python",
   "name": "python",
   "nbconvert_exporter": "python",
   "pygments_lexer": "ipython2",
   "version": "2.7.11"
  }
 },
 "nbformat": 4,
 "nbformat_minor": 0
}
