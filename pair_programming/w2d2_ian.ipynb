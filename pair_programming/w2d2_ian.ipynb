{
 "cells": [
  {
   "cell_type": "code",
   "execution_count": 22,
   "metadata": {
    "collapsed": false
   },
   "outputs": [
    {
     "name": "stdout",
     "output_type": "stream",
     "text": [
      "Candidate 0.0 = 179.0\n",
      "Candidate 0.1 = 174.05\n",
      "Candidate 0.2 = 169.2\n",
      "Candidate 0.3 = 164.45\n",
      "Candidate 0.4 = 159.8\n",
      "Candidate 0.5 = 155.25\n",
      "Candidate 0.6 = 150.8\n",
      "Candidate 0.7 = 146.45\n",
      "Candidate 0.8 = 142.2\n",
      "Candidate 0.9 = 138.05\n",
      "Candidate 1.0 = 134.0\n",
      "Candidate 1.1 = 130.05\n",
      "Candidate 1.2 = 126.2\n",
      "Candidate 1.3 = 122.45\n",
      "Candidate 1.4 = 118.8\n",
      "Candidate 1.5 = 115.25\n",
      "Candidate 1.6 = 111.8\n",
      "Candidate 1.7 = 108.45\n",
      "Candidate 1.8 = 105.2\n",
      "Candidate 1.9 = 102.05\n",
      "Candidate 2.0 = 99.0\n",
      "Candidate 2.1 = 96.05\n",
      "Candidate 2.2 = 93.2\n",
      "Candidate 2.3 = 90.45\n",
      "Candidate 2.4 = 87.8\n",
      "Candidate 2.5 = 85.25\n",
      "Candidate 2.6 = 82.8\n",
      "Candidate 2.7 = 80.45\n",
      "Candidate 2.8 = 78.2\n",
      "Candidate 2.9 = 76.05\n",
      "Candidate 3.0 = 74.0\n",
      "Candidate 3.1 = 72.05\n",
      "Candidate 3.2 = 70.2\n",
      "Candidate 3.3 = 68.45\n",
      "Candidate 3.4 = 66.8\n",
      "Candidate 3.5 = 65.25\n",
      "Candidate 3.6 = 63.8\n",
      "Candidate 3.7 = 62.45\n",
      "Candidate 3.8 = 61.2\n",
      "Candidate 3.9 = 60.05\n",
      "Candidate 4.0 = 59.0\n",
      "Candidate 4.1 = 58.05\n",
      "Candidate 4.2 = 57.2\n",
      "Candidate 4.3 = 56.45\n",
      "Candidate 4.4 = 55.8\n",
      "Candidate 4.5 = 55.25\n",
      "Candidate 4.6 = 54.8\n",
      "Candidate 4.7 = 54.45\n",
      "Candidate 4.8 = 54.2\n",
      "Candidate 4.9 = 54.05\n",
      "Candidate 5.0 = 54.0\n",
      "Candidate 5.1 = 54.05\n",
      "Candidate 5.2 = 54.2\n",
      "Candidate 5.3 = 54.45\n",
      "Candidate 5.4 = 54.8\n",
      "Candidate 5.5 = 55.25\n",
      "Candidate 5.6 = 55.8\n",
      "Candidate 5.7 = 56.45\n",
      "Candidate 5.8 = 57.2\n",
      "Candidate 5.9 = 58.05\n",
      "Candidate 6.0 = 59.0\n",
      "Candidate 6.1 = 60.05\n",
      "Candidate 6.2 = 61.2\n",
      "Candidate 6.3 = 62.45\n",
      "Candidate 6.4 = 63.8\n",
      "Candidate 6.5 = 65.25\n",
      "Candidate 6.6 = 66.8\n",
      "Candidate 6.7 = 68.45\n",
      "Candidate 6.8 = 70.2\n",
      "Candidate 6.9 = 72.05\n",
      "Candidate 7.0 = 74.0\n",
      "Candidate 7.1 = 76.05\n",
      "Candidate 7.2 = 78.2\n",
      "Candidate 7.3 = 80.45\n",
      "Candidate 7.4 = 82.8\n",
      "Candidate 7.5 = 85.25\n",
      "Candidate 7.6 = 87.8\n",
      "Candidate 7.7 = 90.45\n",
      "Candidate 7.8 = 93.2\n",
      "Candidate 7.9 = 96.05\n",
      "Candidate 8.0 = 99.0\n",
      "Candidate 8.1 = 102.05\n",
      "Candidate 8.2 = 105.2\n",
      "Candidate 8.3 = 108.45\n",
      "Candidate 8.4 = 111.8\n",
      "Candidate 8.5 = 115.25\n",
      "Candidate 8.6 = 118.8\n",
      "Candidate 8.7 = 122.45\n",
      "Candidate 8.8 = 126.2\n",
      "Candidate 8.9 = 130.05\n",
      "Candidate 9.0 = 134.0\n",
      "Candidate 9.1 = 138.05\n",
      "Candidate 9.2 = 142.2\n",
      "Candidate 9.3 = 146.45\n",
      "Candidate 9.4 = 150.8\n",
      "Candidate 9.5 = 155.25\n",
      "Candidate 9.6 = 159.8\n",
      "Candidate 9.7 = 164.45\n",
      "Candidate 9.8 = 169.2\n",
      "Candidate 9.9 = 174.05\n",
      "Candidate 10.0 = 179.0\n",
      "Smallest = 54.0\n"
     ]
    },
    {
     "data": {
      "text/plain": [
       "[<matplotlib.lines.Line2D at 0x111886050>]"
      ]
     },
     "execution_count": 22,
     "metadata": {},
     "output_type": "execute_result"
    },
    {
     "data": {
      "image/png": "[encoded data removed]",
      "text/plain": [
       "<matplotlib.figure.Figure at 0x10b272f10>"
      ]
     },
     "metadata": {},
     "output_type": "display_data"
    }
   ],
   "source": [
    "import matplotlib.pyplot as plt\n",
    "import numpy as np\n",
    "% matplotlib inline\n",
    "\n",
    "DATA_SET = np.matrix([2, 7, 1, 5, 10])\n",
    "smallest = np.nan\n",
    "plot_array = []\n",
    "\n",
    "def calc_data(candidate):\n",
    "    sub_result = DATA_SET - candidate\n",
    "    sq_result = np.square(sub_result)\n",
    "    sum_result = sq_result.sum()\n",
    "    return sum_result\n",
    "\n",
    "for i in np.linspace(0, 10, 101):\n",
    "    candidate_result = calc_data(i)\n",
    "    plot_array.append(candidate_result)\n",
    "\n",
    "    print 'Candidate ' + str(i) + ' = ' + str(candidate_result)\n",
    "\n",
    "    if np.isnan(smallest):\n",
    "        smallest = candidate_result\n",
    "    if candidate_result < smallest:\n",
    "        smallest = candidate_result\n",
    "        \n",
    "print 'Smallest = ' + str(smallest)\n",
    "plt.plot(plot_array)"
   ]
  },
  {
   "cell_type": "code",
   "execution_count": 40,
   "metadata": {
    "collapsed": false
   },
   "outputs": [
    {
     "name": "stdout",
     "output_type": "stream",
     "text": [
      "Smallest = 54.0\n"
     ]
    },
    {
     "data": {
      "text/plain": [
       "[<matplotlib.lines.Line2D at 0x112ccd1d0>]"
      ]
     },
     "execution_count": 40,
     "metadata": {},
     "output_type": "execute_result"
    },
    {
     "data": {
      "image/png": "[encoded data removed]",
      "text/plain": [
       "<matplotlib.figure.Figure at 0x111fbc690>"
      ]
     },
     "metadata": {},
     "output_type": "display_data"
    }
   ],
   "source": [
    "import matplotlib.pyplot as plt\n",
    "import numpy as np\n",
    "% matplotlib inline\n",
    "\n",
    "DATA_SET = np.matrix([2, 7, 1, 5, 10]).T\n",
    "CANDIDATES = np.matrix(np.linspace(0, 10, 101))\n",
    "\n",
    "dif_results = CANDIDATES - DATA_SET\n",
    "sq_results = np.square(dif_results)\n",
    "final_results = sq_results.sum(axis=0)\n",
    "smallest = final_results.min()\n",
    "\n",
    "print 'Smallest = ' + str(smallest)\n",
    "\n",
    "plt.plot(final_results.tolist()[0])"
   ]
  },
  {
   "cell_type": "code",
   "execution_count": null,
   "metadata": {
    "collapsed": true
   },
   "outputs": [],
   "source": []
  }
 ],
 "metadata": {
  "kernelspec": {
   "display_name": "Python 2",
   "language": "python",
   "name": "python2"
  },
  "language_info": {
   "codemirror_mode": {
    "name": "ipython",
    "version": 2
   },
   "file_extension": ".py",
   "mimetype": "text/x-python",
   "name": "python",
   "nbconvert_exporter": "python",
   "pygments_lexer": "ipython2",
   "version": "2.7.11"
  }
 },
 "nbformat": 4,
 "nbformat_minor": 0
}
