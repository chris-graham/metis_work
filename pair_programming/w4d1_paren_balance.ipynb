{
 "cells": [
  {
   "cell_type": "markdown",
   "metadata": {},
   "source": [
    "## Pair Problem\n",
    "\n",
    "A version of this problem was faced at a whiteboard by a Metis student in an interview for a data scientist position on April 16, 2015.\n",
    "\n",
    "In programming languages, and especially in Lisps, there can be a lot of parentheses. The parentheses have to be \"balanced\" to be valid. For example, ()(()) is balanced, but ()()) is not balanced. Also, )((()) is not balanced.\n",
    "\n",
    "Write a function that takes a string and returns True if the string's parentheses are balanced, False if they are not.\n",
    "\n",
    "This is fairly easy. Once you are finished, see if you can come up with a second way to solve the problem.\n",
    "\n",
    "Here are examples to test your function with:\n",
    "\n",
    "* ```(()()()())``` should return True\n",
    "* ```(((())))``` should return True\n",
    "* ```(()((())()))``` should return True\n",
    "* ```((((((())``` should return False\n",
    "* ```()))``` should return False\n",
    "* ```(()()))(()``` should return False"
   ]
  },
  {
   "cell_type": "code",
   "execution_count": 11,
   "metadata": {
    "collapsed": false
   },
   "outputs": [
    {
     "name": "stdout",
     "output_type": "stream",
     "text": [
      "True\n",
      "True\n",
      "True\n",
      "False\n",
      "False\n",
      "False\n"
     ]
    }
   ],
   "source": [
    "def is_balanced(s):\n",
    "    count = 0\n",
    "\n",
    "    for i in list(s):\n",
    "        if i == '(':\n",
    "            count += 1\n",
    "        if i == ')':\n",
    "            count -= 1\n",
    "            if count < 0:\n",
    "                return False\n",
    "        else:\n",
    "            continue\n",
    "\n",
    "    if count == 0:\n",
    "        return True\n",
    "    else:\n",
    "        return False\n",
    "\n",
    "print is_balanced('(()()()())')\n",
    "print is_balanced('(((())))')\n",
    "print is_balanced('(()((())()))')\n",
    "print is_balanced('((((((())')\n",
    "print is_balanced('()))')\n",
    "print is_balanced('(()()))(()')"
   ]
  },
  {
   "cell_type": "code",
   "execution_count": null,
   "metadata": {
    "collapsed": true
   },
   "outputs": [],
   "source": []
  }
 ],
 "metadata": {
  "kernelspec": {
   "display_name": "Python 2",
   "language": "python",
   "name": "python2"
  },
  "language_info": {
   "codemirror_mode": {
    "name": "ipython",
    "version": 2
   },
   "file_extension": ".py",
   "mimetype": "text/x-python",
   "name": "python",
   "nbconvert_exporter": "python",
   "pygments_lexer": "ipython2",
   "version": "2.7.11"
  }
 },
 "nbformat": 4,
 "nbformat_minor": 0
}
